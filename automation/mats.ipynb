{
  "cells": [
    {
      "cell_type": "code",
      "source": [
        "from docx import Document\n",
        "from docxtpl import DocxTemplate\n",
        "from docxcompose.composer import Composer\n",
        "from openpyxl import load_workbook\n",
        "import os\n",
        "import sys\n",
        "from pprint import pprint"
      ],
      "outputs": [],
      "execution_count": 1,
      "metadata": {}
    },
    {
      "cell_type": "code",
      "source": [
        "def use_template(template, newfilename, context):\n",
        "    doc = DocxTemplate(template)\n",
        "    doc.render(context)\n",
        "    doc.save(newfilename)\n",
        "\n",
        "def parse_excel_data(in_file):\n",
        "    \"\"\"Parses excel spreadsheet.\n",
        "    returns a list of dictionaries with column headers as keys\n",
        "    \"\"\"\n",
        "\n",
        "    # Load data from active workbook sheet\n",
        "    open_sheet = load_workbook(in_file).active\n",
        "    columns = tuple(open_sheet.iter_rows(min_row=0,\n",
        "                                         max_row=1,\n",
        "                                         values_only=True))[0]\n",
        "    dictlist = [\n",
        "        dict(zip(columns, row))\n",
        "        for row in open_sheet.iter_rows(min_row=2, values_only=True)\n",
        "    ]\n",
        "    return dictlist"
      ],
      "outputs": [],
      "execution_count": 3,
      "metadata": {
        "collapsed": false,
        "outputHidden": false,
        "inputHidden": false
      }
    },
    {
      "cell_type": "code",
      "source": [
        "outputs = []\n",
        "for med in parse_excel_data(os.path.join(\"..\",\"mats.xlsx\")):\n",
        "    context = med\n",
        "    dropbox = r\"..\"\n",
        "    template = \"mat_template.docx\"\n",
        "    output = os.path.join(dropbox,\"MAT\"+str(med[\"medication\"])+\".docx\")\n",
        "    #output = os.path.join(\"MAT\"+str(med[\"medication\"])+\".docx\")\n",
        "\n",
        "    use_template(template,output,context)\n",
        "    # print(output)\n",
        "    outputs.append(output)\n",
        "\n",
        "# insert page break after every 2 mats\n",
        "for i in range(len(outputs)+(int(len(outputs)/2))):\n",
        "    if (i+1)%3==0:\n",
        "        outputs.insert(i, \"pagebreak.docx\")\n",
        "\n",
        "    "
      ],
      "outputs": [],
      "execution_count": 4,
      "metadata": {}
    },
    {
      "cell_type": "code",
      "source": [
        "def combine_all_docx(filename_master,files_list):\n",
        "    #For Example\n",
        "    #filename_master=\"file1.docx\"\n",
        "    #files_list=[\"file2.docx\",\"file3.docx\",\"file4.docx\",file5.docx\"]\n",
        "    #Calling the function\n",
        "    #combine_all_docx(filename_master,files_list)\n",
        "    #This function will combine all the document in the array files_list into the file1.docx and save the merged document into combined_file.docx\n",
        "    number_of_sections=len(files_list)\n",
        "    master = Document(filename_master)\n",
        "    composer = Composer(master)\n",
        "    for i in range(0, number_of_sections):\n",
        "        doc_temp = Document(files_list[i])\n",
        "        composer.append(doc_temp)\n",
        "    composer.save(os.path.join(dropbox,\"MATs.docx\"))\n",
        "    print(os.path.join(dropbox,\"MATs.docx\"))\n",
        "\n",
        "#print(outputs)\n",
        "combine_all_docx(\"merge.docx\",outputs)\n",
        "\n",
        "# clean up intermediate files\n",
        "for doc in outputs:\n",
        "    if doc != \"pagebreak.docx\":\n",
        "        os.remove(doc)\n"
      ],
      "outputs": [
        {
          "output_type": "stream",
          "name": "stdout",
          "text": [
            "../MATs.docx\n"
          ]
        }
      ],
      "execution_count": 5,
      "metadata": {
        "collapsed": false,
        "outputHidden": false,
        "inputHidden": false
      }
    }
  ],
  "metadata": {
    "kernelspec": {
      "name": "python3",
      "language": "python",
      "display_name": "Python 3"
    },
    "language_info": {
      "name": "python",
      "version": "3.6.8",
      "mimetype": "text/x-python",
      "codemirror_mode": {
        "name": "ipython",
        "version": 3
      },
      "pygments_lexer": "ipython3",
      "nbconvert_exporter": "python",
      "file_extension": ".py"
    },
    "kernel_info": {
      "name": "python3"
    },
    "nteract": {
      "version": "0.15.0"
    }
  },
  "nbformat": 4,
  "nbformat_minor": 2
}